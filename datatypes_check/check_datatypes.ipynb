{
 "cells": [
  {
   "cell_type": "code",
   "execution_count": 6,
   "metadata": {},
   "outputs": [],
   "source": [
    "import pandas as pd\n",
    "\n",
    "filepath = 'C:\\\\Work\\\\5_projects\\\\citizen_db\\\\data\\\\land\\\\welfare_patients_2025-07_v-01.xlsx'\n",
    "\n",
    "df = pd.read_excel(filepath)\n"
   ]
  },
  {
   "cell_type": "code",
   "execution_count": 7,
   "metadata": {},
   "outputs": [
    {
     "data": {
      "text/plain": [
       "שם ראש משפחה     object\n",
       "תז ראש משפחה      int64\n",
       "ת ז               int64\n",
       "פרטי             object\n",
       "גיל               int64\n",
       "שכונה            object\n",
       "שם רחוב          object\n",
       "קוד רחוב          int64\n",
       "בית             float64\n",
       "קומה            float64\n",
       "דירה            float64\n",
       "טלפון            object\n",
       "נייד             object\n",
       "צוות             object\n",
       "עוס אחראי        object\n",
       "dtype: object"
      ]
     },
     "execution_count": 7,
     "metadata": {},
     "output_type": "execute_result"
    }
   ],
   "source": [
    "df.dtypes"
   ]
  }
 ],
 "metadata": {
  "kernelspec": {
   "display_name": "Python 3",
   "language": "python",
   "name": "python3"
  },
  "language_info": {
   "codemirror_mode": {
    "name": "ipython",
    "version": 3
   },
   "file_extension": ".py",
   "mimetype": "text/x-python",
   "name": "python",
   "nbconvert_exporter": "python",
   "pygments_lexer": "ipython3",
   "version": "3.12.4"
  }
 },
 "nbformat": 4,
 "nbformat_minor": 2
}
